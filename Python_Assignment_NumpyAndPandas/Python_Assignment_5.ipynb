{
 "cells": [
  {
   "cell_type": "markdown",
   "metadata": {},
   "source": [
    "#**1.Define a series with even values from 100 to 200 in descending order.**"
   ]
  },
  {
   "cell_type": "code",
   "execution_count": 18,
   "metadata": {},
   "outputs": [
    {
     "name": "stdout",
     "output_type": "stream",
     "text": [
      "[200, 198, 196, 194, 192, 190, 188, 186, 184, 182, 180, 178, 176, 174, 172, 170, 168, 166, 164, 162, 160, 158, 156, 154, 152, 150, 148, 146, 144, 142, 140, 138, 136, 134, 132, 130, 128, 126, 124, 122, 120, 118, 116, 114, 112, 110, 108, 106, 104, 102, 100]\n",
      "\n",
      "\n",
      "0     200\n",
      "1     198\n",
      "2     196\n",
      "3     194\n",
      "4     192\n",
      "5     190\n",
      "6     188\n",
      "7     186\n",
      "8     184\n",
      "9     182\n",
      "10    180\n",
      "11    178\n",
      "12    176\n",
      "13    174\n",
      "14    172\n",
      "15    170\n",
      "16    168\n",
      "17    166\n",
      "18    164\n",
      "19    162\n",
      "20    160\n",
      "21    158\n",
      "22    156\n",
      "23    154\n",
      "24    152\n",
      "25    150\n",
      "26    148\n",
      "27    146\n",
      "28    144\n",
      "29    142\n",
      "30    140\n",
      "31    138\n",
      "32    136\n",
      "33    134\n",
      "34    132\n",
      "35    130\n",
      "36    128\n",
      "37    126\n",
      "38    124\n",
      "39    122\n",
      "40    120\n",
      "41    118\n",
      "42    116\n",
      "43    114\n",
      "44    112\n",
      "45    110\n",
      "46    108\n",
      "47    106\n",
      "48    104\n",
      "49    102\n",
      "50    100\n",
      "dtype: int64\n"
     ]
    }
   ],
   "source": [
    "import numpy as np\n",
    "import pandas as pd\n",
    "\n",
    "data = np.array([i for i in range(100,201)])\n",
    "even_values = list(filter(lambda x:(x % 2 == 0), data))\n",
    "even_values =even_values[::-1]\n",
    "\n",
    "series = pd.Series(even_values)\n",
    "\n",
    "print(even_values)\n",
    "print('\\n')\n",
    "print(series)\n"
   ]
  },
  {
   "cell_type": "markdown",
   "metadata": {},
   "source": [
    "#**2.Assign index to this series starting from 100.**"
   ]
  },
  {
   "cell_type": "code",
   "execution_count": 19,
   "metadata": {},
   "outputs": [
    {
     "data": {
      "text/plain": [
       "100    200\n",
       "101    198\n",
       "102    196\n",
       "103    194\n",
       "104    192\n",
       "105    190\n",
       "106    188\n",
       "107    186\n",
       "108    184\n",
       "109    182\n",
       "110    180\n",
       "111    178\n",
       "112    176\n",
       "113    174\n",
       "114    172\n",
       "115    170\n",
       "116    168\n",
       "117    166\n",
       "118    164\n",
       "119    162\n",
       "120    160\n",
       "121    158\n",
       "122    156\n",
       "123    154\n",
       "124    152\n",
       "125    150\n",
       "126    148\n",
       "127    146\n",
       "128    144\n",
       "129    142\n",
       "130    140\n",
       "131    138\n",
       "132    136\n",
       "133    134\n",
       "134    132\n",
       "135    130\n",
       "136    128\n",
       "137    126\n",
       "138    124\n",
       "139    122\n",
       "140    120\n",
       "141    118\n",
       "142    116\n",
       "143    114\n",
       "144    112\n",
       "145    110\n",
       "146    108\n",
       "147    106\n",
       "148    104\n",
       "149    102\n",
       "150    100\n",
       "dtype: int64"
      ]
     },
     "execution_count": 19,
     "metadata": {},
     "output_type": "execute_result"
    }
   ],
   "source": [
    "Index = [i for i in range(100,151)]\n",
    "\n",
    "series = pd.Series(even_values, index =Index)\n",
    "\n",
    "series"
   ]
  },
  {
   "cell_type": "markdown",
   "metadata": {},
   "source": [
    "#**3.Create a dataframe of random values of shape 8*6. Assign index as numerical values and column values from a to f.**"
   ]
  },
  {
   "cell_type": "code",
   "execution_count": 20,
   "metadata": {},
   "outputs": [
    {
     "data": {
      "text/html": [
       "<div>\n",
       "<style scoped>\n",
       "    .dataframe tbody tr th:only-of-type {\n",
       "        vertical-align: middle;\n",
       "    }\n",
       "\n",
       "    .dataframe tbody tr th {\n",
       "        vertical-align: top;\n",
       "    }\n",
       "\n",
       "    .dataframe thead th {\n",
       "        text-align: right;\n",
       "    }\n",
       "</style>\n",
       "<table border=\"1\" class=\"dataframe\">\n",
       "  <thead>\n",
       "    <tr style=\"text-align: right;\">\n",
       "      <th></th>\n",
       "      <th>a</th>\n",
       "      <th>b</th>\n",
       "      <th>c</th>\n",
       "      <th>d</th>\n",
       "      <th>e</th>\n",
       "      <th>f</th>\n",
       "    </tr>\n",
       "  </thead>\n",
       "  <tbody>\n",
       "    <tr>\n",
       "      <th>1</th>\n",
       "      <td>-0.516774</td>\n",
       "      <td>-0.340703</td>\n",
       "      <td>-0.178647</td>\n",
       "      <td>-0.031469</td>\n",
       "      <td>0.478360</td>\n",
       "      <td>-0.611414</td>\n",
       "    </tr>\n",
       "    <tr>\n",
       "      <th>2</th>\n",
       "      <td>0.964332</td>\n",
       "      <td>-1.630428</td>\n",
       "      <td>-1.792266</td>\n",
       "      <td>-0.993124</td>\n",
       "      <td>1.477534</td>\n",
       "      <td>0.933637</td>\n",
       "    </tr>\n",
       "    <tr>\n",
       "      <th>3</th>\n",
       "      <td>1.096099</td>\n",
       "      <td>-1.473952</td>\n",
       "      <td>0.146572</td>\n",
       "      <td>-1.759162</td>\n",
       "      <td>0.563560</td>\n",
       "      <td>-1.572018</td>\n",
       "    </tr>\n",
       "    <tr>\n",
       "      <th>4</th>\n",
       "      <td>1.092943</td>\n",
       "      <td>0.129816</td>\n",
       "      <td>-1.693888</td>\n",
       "      <td>1.586174</td>\n",
       "      <td>-0.488986</td>\n",
       "      <td>-0.935900</td>\n",
       "    </tr>\n",
       "    <tr>\n",
       "      <th>5</th>\n",
       "      <td>-0.585313</td>\n",
       "      <td>-1.286152</td>\n",
       "      <td>-1.618925</td>\n",
       "      <td>-0.823439</td>\n",
       "      <td>-0.485974</td>\n",
       "      <td>0.584634</td>\n",
       "    </tr>\n",
       "    <tr>\n",
       "      <th>6</th>\n",
       "      <td>0.230312</td>\n",
       "      <td>-2.641953</td>\n",
       "      <td>-0.774545</td>\n",
       "      <td>0.353805</td>\n",
       "      <td>0.238797</td>\n",
       "      <td>0.362501</td>\n",
       "    </tr>\n",
       "    <tr>\n",
       "      <th>7</th>\n",
       "      <td>-1.665062</td>\n",
       "      <td>-0.000330</td>\n",
       "      <td>-0.929040</td>\n",
       "      <td>0.009134</td>\n",
       "      <td>-1.684931</td>\n",
       "      <td>1.185479</td>\n",
       "    </tr>\n",
       "    <tr>\n",
       "      <th>8</th>\n",
       "      <td>0.020795</td>\n",
       "      <td>2.100312</td>\n",
       "      <td>-1.423285</td>\n",
       "      <td>2.192854</td>\n",
       "      <td>-0.159317</td>\n",
       "      <td>-2.132487</td>\n",
       "    </tr>\n",
       "  </tbody>\n",
       "</table>\n",
       "</div>"
      ],
      "text/plain": [
       "          a         b         c         d         e         f\n",
       "1 -0.516774 -0.340703 -0.178647 -0.031469  0.478360 -0.611414\n",
       "2  0.964332 -1.630428 -1.792266 -0.993124  1.477534  0.933637\n",
       "3  1.096099 -1.473952  0.146572 -1.759162  0.563560 -1.572018\n",
       "4  1.092943  0.129816 -1.693888  1.586174 -0.488986 -0.935900\n",
       "5 -0.585313 -1.286152 -1.618925 -0.823439 -0.485974  0.584634\n",
       "6  0.230312 -2.641953 -0.774545  0.353805  0.238797  0.362501\n",
       "7 -1.665062 -0.000330 -0.929040  0.009134 -1.684931  1.185479\n",
       "8  0.020795  2.100312 -1.423285  2.192854 -0.159317 -2.132487"
      ]
     },
     "execution_count": 20,
     "metadata": {},
     "output_type": "execute_result"
    }
   ],
   "source": [
    "import pandas as pd\n",
    "import numpy as np\n",
    "\n",
    "data1 = pd.DataFrame(np.random.randn(8,6), index=[1, 2, 3, 4, 5, 6, 7, 8],columns= ['a', 'b', 'c', 'd', 'e', 'f'])\n",
    "data1\n",
    "\n"
   ]
  },
  {
   "cell_type": "markdown",
   "metadata": {},
   "source": [
    "#**Using loc and iloc print values of rows 3,4 and columns b and e.**"
   ]
  },
  {
   "cell_type": "code",
   "execution_count": 21,
   "metadata": {},
   "outputs": [
    {
     "name": "stdout",
     "output_type": "stream",
     "text": [
      "          a         b         c         d         e         f\n",
      "4  1.092943  0.129816 -1.693888  1.586174 -0.488986 -0.935900\n",
      "5 -0.585313 -1.286152 -1.618925 -0.823439 -0.485974  0.584634\n",
      "\n",
      "\n",
      "          b         e\n",
      "1 -0.340703  0.478360\n",
      "2 -1.630428  1.477534\n",
      "3 -1.473952  0.563560\n",
      "4  0.129816 -0.488986\n",
      "5 -1.286152 -0.485974\n",
      "6 -2.641953  0.238797\n",
      "7 -0.000330 -1.684931\n",
      "8  2.100312 -0.159317\n"
     ]
    }
   ],
   "source": [
    "print(data1.iloc[3:5])\n",
    "print('\\n')\n",
    "\n",
    "print(data1[['b','e']])"
   ]
  },
  {
   "cell_type": "markdown",
   "metadata": {},
   "source": [
    "#**4.Create a multi-index dataframe and 1st index is [\"cse\",\"IT\"] and second index is 1 to 6 numbers. Use 2 columns A, B and assign random values to it.**"
   ]
  },
  {
   "cell_type": "code",
   "execution_count": 22,
   "metadata": {},
   "outputs": [
    {
     "name": "stdout",
     "output_type": "stream",
     "text": [
      "[('cse', 1), ('cse', 2), ('cse', 3), ('cse', 4), ('cse', 5), ('cse', 6), ('IT', 1), ('IT', 2), ('IT', 3), ('IT', 4), ('IT', 5), ('IT', 6)]\n"
     ]
    }
   ],
   "source": [
    "arrays = [\n",
    "          [\"cse\",\"cse\",\"cse\",\"cse\",\"cse\",\"cse\", \"IT\",\"IT\",\"IT\",\"IT\",\"IT\",\"IT\"],\n",
    "          [1, 2, 3, 4, 5, 6, 1, 2, 3, 4, 5, 6],\n",
    "         ]\n",
    "tuples = list(zip(*arrays))\n",
    "print(tuples)\n"
   ]
  },
  {
   "cell_type": "code",
   "execution_count": 24,
   "metadata": {},
   "outputs": [
    {
     "name": "stdout",
     "output_type": "stream",
     "text": [
      "MultiIndex([('cse', 1),\n",
      "            ('cse', 2),\n",
      "            ('cse', 3),\n",
      "            ('cse', 4),\n",
      "            ('cse', 5),\n",
      "            ('cse', 6),\n",
      "            ( 'IT', 1),\n",
      "            ( 'IT', 2),\n",
      "            ( 'IT', 3),\n",
      "            ( 'IT', 4),\n",
      "            ( 'IT', 5),\n",
      "            ( 'IT', 6)],\n",
      "           names=['A', 'B'])\n"
     ]
    }
   ],
   "source": [
    "import numpy as np\n",
    "import pandas as pd\n",
    "index = pd.MultiIndex.from_tuples(tuples, names=[\"A\", \"B\"])\n",
    "\n",
    "print(index)"
   ]
  },
  {
   "cell_type": "code",
   "execution_count": 25,
   "metadata": {},
   "outputs": [
    {
     "name": "stdout",
     "output_type": "stream",
     "text": [
      "A    B\n",
      "cse  1    0.574626\n",
      "     2    1.113923\n",
      "     3   -0.017175\n",
      "     4    0.282348\n",
      "     5    0.952775\n",
      "     6    1.418931\n",
      "IT   1    0.277980\n",
      "     2    0.909166\n",
      "     3   -1.319648\n",
      "     4   -0.114611\n",
      "     5   -0.852055\n",
      "     6    0.349097\n",
      "dtype: float64\n"
     ]
    }
   ],
   "source": [
    "s = pd.Series(np.random.randn(12), index=index)\n",
    "print(s)"
   ]
  },
  {
   "cell_type": "markdown",
   "metadata": {},
   "source": [
    "#**5.Print the row value of number 4 from cse.**"
   ]
  },
  {
   "cell_type": "code",
   "execution_count": 26,
   "metadata": {},
   "outputs": [
    {
     "name": "stdout",
     "output_type": "stream",
     "text": [
      "0.2823482208904833\n"
     ]
    }
   ],
   "source": [
    "print(s.loc[(\"cse\",4)])"
   ]
  },
  {
   "cell_type": "markdown",
   "metadata": {},
   "source": [
    "#**6.Print the row  value of 3, 5 from IT.**"
   ]
  },
  {
   "cell_type": "code",
   "execution_count": 27,
   "metadata": {},
   "outputs": [
    {
     "name": "stdout",
     "output_type": "stream",
     "text": [
      "-1.3196476290533792\n",
      "-0.8520550000049631\n"
     ]
    }
   ],
   "source": [
    "print(s.loc[(\"IT\",3)])\n",
    "print(s.loc[(\"IT\",5)])"
   ]
  },
  {
   "cell_type": "code",
   "execution_count": null,
   "metadata": {},
   "outputs": [],
   "source": []
  }
 ],
 "metadata": {
  "kernelspec": {
   "display_name": "Python 3",
   "language": "python",
   "name": "python3"
  },
  "language_info": {
   "codemirror_mode": {
    "name": "ipython",
    "version": 3
   },
   "file_extension": ".py",
   "mimetype": "text/x-python",
   "name": "python",
   "nbconvert_exporter": "python",
   "pygments_lexer": "ipython3",
   "version": "3.8.5"
  }
 },
 "nbformat": 4,
 "nbformat_minor": 4
}
