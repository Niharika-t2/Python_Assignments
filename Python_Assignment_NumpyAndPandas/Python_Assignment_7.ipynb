{
 "cells": [
  {
   "cell_type": "markdown",
   "metadata": {},
   "source": [
    "#**1.Find null values of a dataframe using median and mode.**"
   ]
  },
  {
   "cell_type": "code",
   "execution_count": 2,
   "metadata": {},
   "outputs": [
    {
     "name": "stdout",
     "output_type": "stream",
     "text": [
      "     ord_no  purch_amt  sale_amt\n",
      "0   70001.0     150.50     10.50\n",
      "1       NaN        NaN     20.65\n",
      "2   70002.0      65.26       NaN\n",
      "3   70004.0     110.50     11.50\n",
      "4       NaN     948.50     98.50\n",
      "5   70005.0        NaN       NaN\n",
      "6       NaN    5760.00     57.00\n",
      "7   70010.0    1983.43     19.43\n",
      "8   70003.0        NaN       NaN\n",
      "9   70012.0     250.45     25.45\n",
      "10      NaN      75.29     75.29\n",
      "11  70013.0    3045.60     35.60\n"
     ]
    }
   ],
   "source": [
    "import numpy as np\n",
    "import pandas as pd\n",
    "df = pd.DataFrame({'ord_no': [70001,np.nan,70002,70004,np.nan,70005,np.nan,70010,70003,70012,np.nan,70013],\n",
    "                   'purch_amt': [150.5,np.nan,65.26,110.5,948.5,np.nan,5760,1983.43,np.nan,250.45, 75.29,3045.6],\n",
    "                    'sale_amt': [10.5,20.65,np.nan,11.5,98.5,np.nan,57,19.43,np.nan,25.45, 75.29,35.6]})\n",
    "\n",
    "print(df)"
   ]
  },
  {
   "cell_type": "code",
   "execution_count": 3,
   "metadata": {},
   "outputs": [
    {
     "name": "stdout",
     "output_type": "stream",
     "text": [
      "     ord_no  purch_amt  sale_amt\n",
      "0   70001.0     150.50     10.50\n",
      "1       NaN     250.45     20.65\n",
      "2   70002.0      65.26       NaN\n",
      "3   70004.0     110.50     11.50\n",
      "4       NaN     948.50     98.50\n",
      "5   70005.0     250.45       NaN\n",
      "6       NaN    5760.00     57.00\n",
      "7   70010.0    1983.43     19.43\n",
      "8   70003.0     250.45       NaN\n",
      "9   70012.0     250.45     25.45\n",
      "10      NaN      75.29     75.29\n",
      "11  70013.0    3045.60     35.60\n"
     ]
    }
   ],
   "source": [
    "#filling null values of purch_amt column with median value\n",
    "\n",
    "df['purch_amt'].fillna(df['purch_amt'].median(), inplace=True)\n",
    "print(df)"
   ]
  },
  {
   "cell_type": "code",
   "execution_count": 4,
   "metadata": {},
   "outputs": [
    {
     "name": "stdout",
     "output_type": "stream",
     "text": [
      "     ord_no  purch_amt  sale_amt\n",
      "0   70001.0     150.50     10.50\n",
      "1       NaN     250.45     20.65\n",
      "2   70002.0      65.26     19.43\n",
      "3   70004.0     110.50     11.50\n",
      "4       NaN     948.50     98.50\n",
      "5   70005.0     250.45     35.60\n",
      "6       NaN    5760.00     57.00\n",
      "7   70010.0    1983.43     19.43\n",
      "8   70003.0     250.45     98.50\n",
      "9   70012.0     250.45     25.45\n",
      "10      NaN      75.29     75.29\n",
      "11  70013.0    3045.60     35.60\n"
     ]
    }
   ],
   "source": [
    "#filling values of sale_amt column with mode value\n",
    "\n",
    "df['sale_amt'].fillna(df['sale_amt'].mode(), inplace=True)\n",
    "print(df)"
   ]
  },
  {
   "cell_type": "markdown",
   "metadata": {},
   "source": [
    "#**2.What is the  difference between merging and joining in dataframe.**"
   ]
  },
  {
   "cell_type": "markdown",
   "metadata": {},
   "source": [
    "Merge() is used for combining data based on common columns or indices.\n",
    "Join() is used for combining two dataframes based on their indexes."
   ]
  },
  {
   "cell_type": "markdown",
   "metadata": {},
   "source": [
    "#**3.Create a dataframe and add a column. Add names in it and use  apply function to return names whose length is greater than 5.**"
   ]
  },
  {
   "cell_type": "code",
   "execution_count": 5,
   "metadata": {},
   "outputs": [
    {
     "name": "stdout",
     "output_type": "stream",
     "text": [
      "         Date   Event\n",
      "0   11/8/2011   Music\n",
      "1   11/9/2011  Poetry\n",
      "2  11/10/2011   Music\n",
      "3  11/11/2011  Comedy\n",
      "4  11/12/2011  Poetry\n"
     ]
    }
   ],
   "source": [
    "import pandas as pd\n",
    "\n",
    "df = pd.DataFrame({'Date' : ['11/8/2011', '11/9/2011', '11/10/2011',\n",
    "                                        '11/11/2011', '11/12/2011'],\n",
    "                   'Event' : ['Music', 'Poetry', 'Music', 'Comedy', 'Poetry']})\n",
    "  \n",
    "print(df)"
   ]
  },
  {
   "cell_type": "code",
   "execution_count": 6,
   "metadata": {},
   "outputs": [
    {
     "name": "stdout",
     "output_type": "stream",
     "text": [
      "         Date   Event  Price\n",
      "0   11/8/2011   Music   1500\n",
      "1   11/9/2011  Poetry    800\n",
      "2  11/10/2011   Music   1500\n",
      "3  11/11/2011  Comedy   1200\n",
      "4  11/12/2011  Poetry    800\n"
     ]
    }
   ],
   "source": [
    "def set_value(row_number, assigned_value):\n",
    "    return assigned_value[row_number]\n",
    "\n",
    "event_dictionary = {'Music' : 1500, 'Poetry' : 800, 'Comedy' : 1200}\n",
    "  \n",
    "df['Price'] = df['Event'].apply(set_value, args =(event_dictionary, ))\n",
    "  \n",
    "print(df)"
   ]
  },
  {
   "cell_type": "code",
   "execution_count": 7,
   "metadata": {},
   "outputs": [
    {
     "name": "stdout",
     "output_type": "stream",
     "text": [
      "         Date   Event  Price  Length\n",
      "0   11/8/2011   Music   1500       5\n",
      "1   11/9/2011  Poetry    800       6\n",
      "2  11/10/2011   Music   1500       5\n",
      "3  11/11/2011  Comedy   1200       6\n",
      "4  11/12/2011  Poetry    800       6\n"
     ]
    }
   ],
   "source": [
    "df['Length'] = df[\"Event\"].str.len()\n",
    "print(df)"
   ]
  },
  {
   "cell_type": "code",
   "execution_count": 8,
   "metadata": {},
   "outputs": [
    {
     "data": {
      "text/html": [
       "<div>\n",
       "<style scoped>\n",
       "    .dataframe tbody tr th:only-of-type {\n",
       "        vertical-align: middle;\n",
       "    }\n",
       "\n",
       "    .dataframe tbody tr th {\n",
       "        vertical-align: top;\n",
       "    }\n",
       "\n",
       "    .dataframe thead th {\n",
       "        text-align: right;\n",
       "    }\n",
       "</style>\n",
       "<table border=\"1\" class=\"dataframe\">\n",
       "  <thead>\n",
       "    <tr style=\"text-align: right;\">\n",
       "      <th></th>\n",
       "      <th>Date</th>\n",
       "      <th>Event</th>\n",
       "      <th>Price</th>\n",
       "      <th>Length</th>\n",
       "    </tr>\n",
       "  </thead>\n",
       "  <tbody>\n",
       "    <tr>\n",
       "      <th>1</th>\n",
       "      <td>11/9/2011</td>\n",
       "      <td>Poetry</td>\n",
       "      <td>800</td>\n",
       "      <td>6</td>\n",
       "    </tr>\n",
       "    <tr>\n",
       "      <th>3</th>\n",
       "      <td>11/11/2011</td>\n",
       "      <td>Comedy</td>\n",
       "      <td>1200</td>\n",
       "      <td>6</td>\n",
       "    </tr>\n",
       "    <tr>\n",
       "      <th>4</th>\n",
       "      <td>11/12/2011</td>\n",
       "      <td>Poetry</td>\n",
       "      <td>800</td>\n",
       "      <td>6</td>\n",
       "    </tr>\n",
       "  </tbody>\n",
       "</table>\n",
       "</div>"
      ],
      "text/plain": [
       "         Date   Event  Price  Length\n",
       "1   11/9/2011  Poetry    800       6\n",
       "3  11/11/2011  Comedy   1200       6\n",
       "4  11/12/2011  Poetry    800       6"
      ]
     },
     "execution_count": 8,
     "metadata": {},
     "output_type": "execute_result"
    }
   ],
   "source": [
    "df[df[\"Length\"] > 5]"
   ]
  },
  {
   "cell_type": "markdown",
   "metadata": {},
   "source": [
    "#**4.Create a numpy array and a dataframe and concatenate them.**"
   ]
  },
  {
   "cell_type": "code",
   "execution_count": 9,
   "metadata": {},
   "outputs": [
    {
     "name": "stdout",
     "output_type": "stream",
     "text": [
      "   A  B  C\n",
      "0  5  0  3\n",
      "1  3  7  9\n",
      "2  3  5  2\n"
     ]
    }
   ],
   "source": [
    "import numpy as np\n",
    "import pandas as pd\n",
    "\n",
    "np.random.seed(0)\n",
    "df = pd.DataFrame(np.random.choice(10, (3, 3)), columns = list('ABC'))\n",
    "print(df)\n"
   ]
  },
  {
   "cell_type": "code",
   "execution_count": null,
   "metadata": {},
   "outputs": [],
   "source": []
  }
 ],
 "metadata": {
  "kernelspec": {
   "display_name": "Python 3",
   "language": "python",
   "name": "python3"
  },
  "language_info": {
   "codemirror_mode": {
    "name": "ipython",
    "version": 3
   },
   "file_extension": ".py",
   "mimetype": "text/x-python",
   "name": "python",
   "nbconvert_exporter": "python",
   "pygments_lexer": "ipython3",
   "version": "3.8.5"
  }
 },
 "nbformat": 4,
 "nbformat_minor": 4
}
